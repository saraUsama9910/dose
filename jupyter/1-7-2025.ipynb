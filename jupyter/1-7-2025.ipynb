{
 "cells": [
  {
   "cell_type": "code",
   "execution_count": null,
   "id": "5547ff96",
   "metadata": {},
   "outputs": [
    {
     "name": "stdout",
     "output_type": "stream",
     "text": [
      "Listening for HL7 messages on 127.0.0.1:5000...\n",
      "Connection from ('127.0.0.1', 51494)\n",
      "\n",
      "----- HL7 Message Received -----\n",
      "\n",
      "MSH|^~\\&|RadiologySystem|Hospital|PACS|Hospital|20250701113635||ORM^O01|68579|P|2.3\n",
      "PID|||68579||AMAL MOHAMED AFIFY|||19650508|F\n",
      "OBR|||68579||CT|||||20250508\n",
      "OBX|1|NM|CTDIvol||14.45106|mGy\n",
      "OBX|2|NM|DLP||0.00000|mGy*cm\n",
      "OBX|3|NM|Dose_mSv||0.00000|mSv\n",
      "OBX|4|NM|AccumulatedDose||11.26980|mSv\n",
      "OBX|5|NM|DosePerYear||11.26980|mSv\n",
      "\n",
      "\n",
      "-------------------------------\n",
      "\n"
     ]
    }
   ],
   "source": [
    "# جهاز الاستقبال - hl7_receiver.py\n",
    "import socket\n",
    "\n",
    "def start_hl7_receiver(ip=\"192.168.1.94\", port=5000):\n",
    "    with socket.socket(socket.AF_INET, socket.SOCK_STREAM) as server:\n",
    "        server.bind((ip, port))\n",
    "        server.listen()\n",
    "        print(f\"Listening for HL7 messages on {ip}:{port}...\")\n",
    "\n",
    "        while True:\n",
    "            client, addr = server.accept()\n",
    "            with client:\n",
    "                print(f\"Connection from {addr}\")\n",
    "                message = client.recv(4096).decode(\"utf-8\")\n",
    "                print(\"\\n----- HL7 Message Received -----\\n\")\n",
    "                print(message)\n",
    "                print(\"\\n-------------------------------\\n\")\n",
    "\n",
    "if __name__ == \"__main__\":\n",
    "    start_hl7_receiver(port=5000)  # خلي البورت يطابق اللي هتكتبيه في جهازك\n"
   ]
  }
 ],
 "metadata": {
  "kernelspec": {
   "display_name": "Python 3",
   "language": "python",
   "name": "python3"
  },
  "language_info": {
   "codemirror_mode": {
    "name": "ipython",
    "version": 3
   },
   "file_extension": ".py",
   "mimetype": "text/x-python",
   "name": "python",
   "nbconvert_exporter": "python",
   "pygments_lexer": "ipython3",
   "version": "3.11.9"
  }
 },
 "nbformat": 4,
 "nbformat_minor": 5
}
