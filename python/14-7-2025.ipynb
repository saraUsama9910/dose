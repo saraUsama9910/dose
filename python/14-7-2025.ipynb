{
 "cells": [
  {
   "cell_type": "code",
   "execution_count": 1,
   "id": "1a810e4d",
   "metadata": {},
   "outputs": [
    {
     "data": {
      "text/plain": [
       "True"
      ]
     },
     "execution_count": 1,
     "metadata": {},
     "output_type": "execute_result"
    }
   ],
   "source": [
    "5>2"
   ]
  },
  {
   "cell_type": "code",
   "execution_count": 2,
   "id": "7daca236",
   "metadata": {},
   "outputs": [
    {
     "name": "stdout",
     "output_type": "stream",
     "text": [
      "0\n",
      "1\n",
      "2\n",
      "3\n",
      "4\n",
      "5\n",
      "Finally Done!\n"
     ]
    }
   ],
   "source": [
    "for x in range(6):\n",
    "     print(x)\n",
    "else:\n",
    "        print(\"Finally Done!\")"
   ]
  },
  {
   "cell_type": "code",
   "execution_count": 4,
   "id": "f977eff8",
   "metadata": {},
   "outputs": [
    {
     "name": "stdout",
     "output_type": "stream",
     "text": [
      "9.7\n"
     ]
    }
   ],
   "source": [
    "type(x)\n",
    "t=4\n",
    "v=5.7\n",
    "c=t+v\n",
    "print (c)"
   ]
  },
  {
   "cell_type": "code",
   "execution_count": 6,
   "id": "21aa8b2a",
   "metadata": {},
   "outputs": [
    {
     "data": {
      "text/plain": [
       "True"
      ]
     },
     "execution_count": 6,
     "metadata": {},
     "output_type": "execute_result"
    }
   ],
   "source": [
    "x=2\n",
    "y=4\n",
    "x is not y"
   ]
  },
  {
   "cell_type": "code",
   "execution_count": 19,
   "id": "7c8492f6",
   "metadata": {},
   "outputs": [
    {
     "data": {
      "text/plain": [
       "False"
      ]
     },
     "execution_count": 19,
     "metadata": {},
     "output_type": "execute_result"
    }
   ],
   "source": [
    "x=[1,2,3]\n",
    "y=[1,2,3]\n",
    "y in x"
   ]
  },
  {
   "cell_type": "code",
   "execution_count": null,
   "id": "f1f33282",
   "metadata": {},
   "outputs": [
    {
     "ename": "NameError",
     "evalue": "name 'q' is not defined",
     "output_type": "error",
     "traceback": [
      "\u001b[31m---------------------------------------------------------------------------\u001b[39m",
      "\u001b[31mNameError\u001b[39m                                 Traceback (most recent call last)",
      "\u001b[36mCell\u001b[39m\u001b[36m \u001b[39m\u001b[32mIn[18]\u001b[39m\u001b[32m, line 2\u001b[39m\n\u001b[32m      1\u001b[39m x=t\n\u001b[32m----> \u001b[39m\u001b[32m2\u001b[39m y=\u001b[43mq\u001b[49m\n\u001b[32m      3\u001b[39m t \u001b[38;5;129;01min\u001b[39;00m x\n\u001b[32m      4\u001b[39m c=x+y\n",
      "\u001b[31mNameError\u001b[39m: name 'q' is not defined"
     ]
    }
   ],
   "source": [
    "x=t=y=q\n",
    "t in x\n",
    "c=x+y\n",
    "x in c"
   ]
  },
  {
   "cell_type": "code",
   "execution_count": null,
   "id": "61b25047",
   "metadata": {},
   "outputs": [],
   "source": [
    "str.count()"
   ]
  },
  {
   "cell_type": "code",
   "execution_count": null,
   "id": "8ecfb332",
   "metadata": {},
   "outputs": [],
   "source": [
    "print(\"enter your num\")\n",
    "a= input(x)"
   ]
  },
  {
   "cell_type": "code",
   "execution_count": 20,
   "id": "77c56fd2",
   "metadata": {},
   "outputs": [
    {
     "data": {
      "text/plain": [
       "list"
      ]
     },
     "execution_count": 20,
     "metadata": {},
     "output_type": "execute_result"
    }
   ],
   "source": [
    "type(x)"
   ]
  },
  {
   "cell_type": "code",
   "execution_count": 21,
   "id": "7b2b92be",
   "metadata": {},
   "outputs": [
    {
     "data": {
      "text/plain": [
       "list"
      ]
     },
     "execution_count": 21,
     "metadata": {},
     "output_type": "execute_result"
    }
   ],
   "source": [
    "type(y)"
   ]
  },
  {
   "cell_type": "code",
   "execution_count": 22,
   "id": "689f505b",
   "metadata": {},
   "outputs": [
    {
     "data": {
      "text/plain": [
       "9"
      ]
     },
     "execution_count": 22,
     "metadata": {},
     "output_type": "execute_result"
    }
   ],
   "source": [
    "e=4\n",
    "c=5\n",
    "e+c"
   ]
  },
  {
   "cell_type": "code",
   "execution_count": 23,
   "id": "f2625db6",
   "metadata": {},
   "outputs": [
    {
     "data": {
      "text/plain": [
       "'Sara'"
      ]
     },
     "execution_count": 23,
     "metadata": {},
     "output_type": "execute_result"
    }
   ],
   "source": [
    "str.capitalize(\"sara\")"
   ]
  },
  {
   "cell_type": "code",
   "execution_count": 25,
   "id": "57fb4709",
   "metadata": {},
   "outputs": [
    {
     "data": {
      "text/plain": [
       "'sara'"
      ]
     },
     "execution_count": 25,
     "metadata": {},
     "output_type": "execute_result"
    }
   ],
   "source": [
    "str.casefold(\"SARa\")"
   ]
  },
  {
   "cell_type": "code",
   "execution_count": 40,
   "id": "5156dd55",
   "metadata": {},
   "outputs": [
    {
     "data": {
      "text/plain": [
       "'                                         sara Usama Mostafa                                         '"
      ]
     },
     "execution_count": 40,
     "metadata": {},
     "output_type": "execute_result"
    }
   ],
   "source": [
    "str.center(\"sara Usama Mostafa\",100)"
   ]
  },
  {
   "cell_type": "code",
   "execution_count": 47,
   "id": "7fe355da",
   "metadata": {},
   "outputs": [
    {
     "data": {
      "text/plain": [
       "b't'"
      ]
     },
     "execution_count": 47,
     "metadata": {},
     "output_type": "execute_result"
    }
   ],
   "source": [
    "x=\"t\"\n",
    "str.encode(x)"
   ]
  },
  {
   "cell_type": "code",
   "execution_count": 53,
   "id": "efb0aef3",
   "metadata": {},
   "outputs": [
    {
     "name": "stdout",
     "output_type": "stream",
     "text": [
      "your age is 25\n",
      "your have  40 years until retirement\n",
      "years until retirement\n"
     ]
    }
   ],
   "source": [
    "age= input(\"How Old Are You?\")\n",
    "if int(age) < 65 :\n",
    "    print(\"your age is\",age)\n",
    "    print(\"your have \",65- int(age),\"years until retirement\")\n",
    "    print(\"years until retirement\")\n",
    "\n",
    "else:\n",
    "    print(\"you are retirement\")\n"
   ]
  },
  {
   "cell_type": "code",
   "execution_count": null,
   "id": "177e22c9",
   "metadata": {},
   "outputs": [],
   "source": []
  }
 ],
 "metadata": {
  "kernelspec": {
   "display_name": "Python 3",
   "language": "python",
   "name": "python3"
  },
  "language_info": {
   "codemirror_mode": {
    "name": "ipython",
    "version": 3
   },
   "file_extension": ".py",
   "mimetype": "text/x-python",
   "name": "python",
   "nbconvert_exporter": "python",
   "pygments_lexer": "ipython3",
   "version": "3.11.9"
  }
 },
 "nbformat": 4,
 "nbformat_minor": 5
}
